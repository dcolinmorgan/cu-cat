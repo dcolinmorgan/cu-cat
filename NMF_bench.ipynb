{
 "cells": [
  {
   "cell_type": "code",
   "execution_count": 7,
   "id": "ec5f8b4c-9325-4539-b49c-0b5426bb5e19",
   "metadata": {
    "tags": []
   },
   "outputs": [
    {
     "name": "stdout",
     "output_type": "stream",
     "text": [
      "         7942 function calls (7898 primitive calls) in 0.006 seconds\n",
      "\n",
      "   Ordered by: internal time\n",
      "   List reduced from 331 to 10 due to restriction <10>\n",
      "\n",
      "   ncalls  tottime  percall  cumtime  percall filename:lineno(function)\n",
      "     1654    0.000    0.000    0.001    0.000 {built-in method builtins.isinstance}\n",
      "     1200    0.000    0.000    0.001    0.000 /opt/conda/envs/rapids/lib/python3.8/site-packages/sklearn/utils/__init__.py:956(is_scalar_nan)\n",
      "        2    0.000    0.000    0.000    0.000 /opt/conda/envs/rapids/lib/python3.8/site-packages/pandas/core/internals/managers.py:224(_rebuild_blknos_and_blklocs)\n",
      "     1210    0.000    0.000    0.000    0.000 /opt/conda/envs/rapids/lib/python3.8/abc.py:96(__instancecheck__)\n",
      "        9    0.000    0.000    0.001    0.000 /opt/conda/envs/rapids/lib/python3.8/site-packages/sklearn/utils/_encode.py:84(<setcomp>)\n",
      "     1210    0.000    0.000    0.000    0.000 {built-in method _abc._abc_instancecheck}\n",
      "       18    0.000    0.000    0.000    0.000 {method 'reduce' of 'numpy.ufunc' objects}\n",
      "        4    0.000    0.000    0.000    0.000 {pandas._libs.lib.maybe_convert_objects}\n",
      "        9    0.000    0.000    0.000    0.000 {built-in method numpy.array}\n",
      "        3    0.000    0.000    0.000    0.000 /opt/conda/envs/rapids/lib/python3.8/site-packages/sklearn/utils/_encode.py:107(__init__)\n",
      "\n",
      "\n"
     ]
    },
    {
     "data": {
      "text/plain": [
       "<pstats.Stats at 0x7fd05bc31be0>"
      ]
     },
     "execution_count": 7,
     "metadata": {},
     "output_type": "execute_result"
    }
   ],
   "source": [
    "from sklearn.preprocessing import OneHotEncoder\n",
    "enc=OneHotEncoder() #df.str1)\n",
    "\n",
    "\n",
    "pr = cProfile.Profile()\n",
    "pr.enable()\n",
    "  \n",
    "enc.fit(tmp[['str0','str1','str2']])\n",
    "enc.transform(tmp[['str0','str1','str2']])#.toarray()\n",
    "\n",
    "pr.disable()\n",
    "stats = Stats(pr)\n",
    "stats.sort_stats('tottime').print_stats(10)"
   ]
  },
  {
   "cell_type": "markdown",
   "id": "cd915134-15ab-4598-b5e4-ee455b454bd8",
   "metadata": {
    "tags": []
   },
   "source": [
    "##### indv cuCat function bench"
   ]
  },
  {
   "cell_type": "code",
   "execution_count": 87,
   "id": "1f28c354-142f-413f-b801-2fedb1b05bb7",
   "metadata": {},
   "outputs": [
    {
     "data": {
      "text/plain": [
       "'/Users/danielmorgan/Documents/cuCat'"
      ]
     },
     "execution_count": 87,
     "metadata": {},
     "output_type": "execute_result"
    }
   ],
   "source": [
    "os.getcwd()\n",
    "# os.chdir('../..')\n",
    "# os.getcwd()"
   ]
  },
  {
   "cell_type": "code",
   "execution_count": 88,
   "id": "379f1eba-4c26-44ce-ab8a-06c618dfe035",
   "metadata": {},
   "outputs": [
    {
     "ename": "ModuleNotFoundError",
     "evalue": "No module named 'cudf'",
     "output_type": "error",
     "traceback": [
      "\u001b[0;31m---------------------------------------------------------------------------\u001b[0m",
      "\u001b[0;31mModuleNotFoundError\u001b[0m                       Traceback (most recent call last)",
      "Cell \u001b[0;32mIn [88], line 2\u001b[0m\n\u001b[1;32m      1\u001b[0m \u001b[38;5;28;01mimport\u001b[39;00m \u001b[38;5;21;01mcProfile\u001b[39;00m\u001b[38;5;241m,\u001b[39m \u001b[38;5;21;01mos\u001b[39;00m\n\u001b[0;32m----> 2\u001b[0m \u001b[38;5;28;01mimport\u001b[39;00m \u001b[38;5;21;01mpandas\u001b[39;00m\u001b[38;5;241m,\u001b[39m \u001b[38;5;21;01mnumpy\u001b[39;00m\u001b[38;5;241m,\u001b[39m\u001b[38;5;21;01mcudf\u001b[39;00m\n\u001b[1;32m      3\u001b[0m \u001b[38;5;28;01mfrom\u001b[39;00m \u001b[38;5;21;01mpstats\u001b[39;00m \u001b[38;5;28;01mimport\u001b[39;00m Stats\n\u001b[1;32m      4\u001b[0m \u001b[38;5;28;01mfrom\u001b[39;00m \u001b[38;5;21;01msklearn\u001b[39;00m\u001b[38;5;21;01m.\u001b[39;00m\u001b[38;5;21;01mutils\u001b[39;00m \u001b[38;5;28;01mimport\u001b[39;00m parse_version\n",
      "\u001b[0;31mModuleNotFoundError\u001b[0m: No module named 'cudf'"
     ]
    }
   ],
   "source": [
    "import cProfile, os\n",
    "import pandas, numpy,cudf\n",
    "from pstats import Stats\n",
    "from sklearn.utils import parse_version\n",
    "\n",
    "from vectorizers import HashingVectorizer"
   ]
  },
  {
   "cell_type": "code",
   "execution_count": null,
   "id": "0d9ae308-970b-4f1c-8684-71bde6b20387",
   "metadata": {},
   "outputs": [],
   "source": [
    "# !pip install --user pygraphistry/ --quiet\n",
    "\n",
    "import graphistry\n",
    "\n",
    "graphistry.register(api=3,protocol=\"https\", server=\"hub.graphistry.com\", username='dcolinmorgan', password='f5UwthGEF@F@xnP')\n",
    "graphistry.__version__\n",
    "\n",
    "# os.chdir('pygraphistry')\n",
    "# !git checkout cuCat\n",
    "# os.chdir('..')"
   ]
  },
  {
   "cell_type": "code",
   "execution_count": null,
   "id": "a5ad9e7c-485b-420b-b326-150b81107d2b",
   "metadata": {},
   "outputs": [],
   "source": [
    "dd=pandas.read_parquet('part.88.parquet',columns=['UserName','EventID','LogHost','LogonID','DomainName'])\n",
    "\n",
    "# data['DomainName'].str.split(r'\\s*,\\s*(?=[A-Z]')\n",
    "# data[['DomainName']] = data[['DomainName']].apply(pandas.to_numeric, errors='coerce')\n",
    "dd['DomainName']=dd['DomainName'].str.extract('(\\d+)', expand=False)\n",
    "dd['UserName']=dd['UserName'].str.extract('(\\d+)', expand=False)\n",
    "dd['LogonID']=dd['LogonID'].str.extract('(\\d+)', expand=False)\n",
    "dd['LogHost']=dd['LogHost'].str.extract('(\\d+)', expand=False)\n",
    "\n",
    "# dd['EventID']=dd['EventID'].str.extract('(\\d+)', expand=False)\n",
    "\n",
    "dd=dd.dropna().astype(int)"
   ]
  },
  {
   "cell_type": "code",
   "execution_count": null,
   "id": "343d42c8-aae2-4faf-b9bb-8fbb55485531",
   "metadata": {},
   "outputs": [],
   "source": [
    "g=graphistry\\\n",
    "    .edges(dd[:10000000].astype(int),source='UserName', destination='DomainName')\\\n",
    "    .bind(edge_weight='EventID')\n",
    "\n",
    "g2 = (\n",
    "    g.nodes(dd[:10000000].astype(int), 'LogHost')\n",
    "    .bind(point_title='EventID')\n",
    "    # .bind(edge_title='score')\n",
    ")\n",
    "# g=graphistry.nodes(df.iloc[:,:4])\n",
    "\n",
    "# ,source='str0',destination='str1')\n",
    "pr = cProfile.Profile()\n",
    "pr.enable()\n",
    "\n",
    "g2=g2.featurize(memoize=False,feature_engine='dirty_cat')\n",
    "# g2 = g2.umap(engine='cuml',memoize=False,feature_engine='cuCat')\n",
    "\n",
    "pr.disable()\n",
    "stats = Stats(pr)\n",
    "stats.sort_stats('tottime').print_stats(20)\n"
   ]
  },
  {
   "cell_type": "code",
   "execution_count": null,
   "id": "726d66f8-ff89-4ead-b2bd-2c61a9c11b89",
   "metadata": {},
   "outputs": [],
   "source": [
    "from importlib import reload\n",
    "\n",
    "import cuCat\n",
    "os.chdir('cuCat')\n",
    "import cuCat\n",
    "reload(cuCat)\n",
    "from cuCat import GapEncoder\n",
    "\n",
    "os.chdir('..')\n",
    "\n",
    "print(cuCat.__version__)\n",
    "\n",
    "g=graphistry\\\n",
    "    .edges(dd[:10000000],source='UserName', destination='DomainName')\\\n",
    "    .bind(edge_weight='EventID')\n",
    "\n",
    "g2 = (\n",
    "    g.nodes(dd[:10000000], 'LogHost')\n",
    "    .bind(point_title='EventID')\n",
    "    # .bind(edge_title='score')\n",
    ")\n",
    "# g=graphistry.nodes(df)\n",
    "\n",
    "# ,source='str0',destination='str1')\n",
    "pr = cProfile.Profile()\n",
    "pr.enable()\n",
    "\n",
    "g2=g2.featurize(memoize=False,feature_engine='cuCat')\n",
    "# g2 = g2.umap(engine='cuml',memoize=False,feature_engine='cuCat')\n",
    "\n",
    "pr.disable()\n",
    "stats = Stats(pr)\n",
    "stats.sort_stats('tottime').print_stats(20)\n"
   ]
  },
  {
   "cell_type": "code",
   "execution_count": null,
   "id": "7ed6db0d-20e1-4df2-b4fa-c00c012ad7cb",
   "metadata": {},
   "outputs": [],
   "source": []
  },
  {
   "cell_type": "code",
   "execution_count": null,
   "id": "074c2c72-78ec-4ad6-850c-5ffb81cdf3e9",
   "metadata": {},
   "outputs": [],
   "source": [
    "string1=df.str3\n",
    "string1 = string1.replace(' ', '  ')\n",
    "string1 = string1.replace(r'([^\\s])', r'\\1 ',regex=True)\n",
    "string1 = cudf.Series(string1).str.normalize_characters()\n",
    "\n",
    "ngrams1 = string1.str.ngrams_tokenize(n=4,separator=',',delimiter=' ')\n",
    "count1 = ngrams1.value_counts()"
   ]
  },
  {
   "cell_type": "code",
   "execution_count": null,
   "id": "fc381bf1-d9ee-445b-ab93-0cc6b9a0b397",
   "metadata": {},
   "outputs": [],
   "source": []
  },
  {
   "cell_type": "markdown",
   "id": "82736e2e-26ec-4e10-87ea-601b25ecbd7d",
   "metadata": {},
   "source": [
    "### assemble NMF encoder"
   ]
  },
  {
   "cell_type": "code",
   "execution_count": 1,
   "id": "85f8844d-82e1-4e48-b9bf-d4f102e13e99",
   "metadata": {},
   "outputs": [],
   "source": [
    "import cProfile, os\n",
    "import pandas, numpy #,cudf\n",
    "from pstats import Stats\n",
    "from sklearn.utils import parse_version\n",
    "import matplotlib.pyplot as plt\n",
    "# from vectorizers import HashingVectorizer"
   ]
  },
  {
   "cell_type": "code",
   "execution_count": 2,
   "id": "88d9a00e-929b-45ac-851f-91fa70ee2b7a",
   "metadata": {},
   "outputs": [],
   "source": [
    "# import cupy as cp\n",
    "from sklearn.datasets import fetch_20newsgroups\n",
    "from sklearn.feature_extraction.text import CountVectorizer,HashingVectorizer,TfidfTransformer\n",
    "from sklearn.naive_bayes import MultinomialNB\n",
    "\n",
    "twenty_train = fetch_20newsgroups(subset='train',shuffle=True, random_state=42)\n",
    "\n",
    "cv = CountVectorizer()\n",
    "transformer = TfidfTransformer()\n",
    "\n",
    "data=twenty_train.data#.astype(cp.float32)\n",
    "X = cv.fit_transform(data)[:100]\n"
   ]
  },
  {
   "cell_type": "code",
   "execution_count": 3,
   "id": "916767f9-fa7e-48c7-b3cb-55edf9fbb671",
   "metadata": {},
   "outputs": [
    {
     "name": "stdout",
     "output_type": "stream",
     "text": [
      "         1350 function calls (1328 primitive calls) in 0.004 seconds\n",
      "\n",
      "   Ordered by: internal time\n",
      "   List reduced from 209 to 20 due to restriction <20>\n",
      "\n",
      "   ncalls  tottime  percall  cumtime  percall filename:lineno(function)\n",
      "        1    0.001    0.001    0.001    0.001 /opt/homebrew/Caskroom/miniforge/base/envs/torch/lib/python3.10/site-packages/scipy/sparse/_dia.py:392(tocoo)\n",
      "        1    0.001    0.001    0.003    0.003 /opt/homebrew/Caskroom/miniforge/base/envs/torch/lib/python3.10/site-packages/sklearn/feature_extraction/text.py:1604(fit)\n",
      "        1    0.000    0.000    0.000    0.000 {built-in method scipy.sparse._sparsetools.csr_sort_indices}\n",
      "       72    0.000    0.000    0.000    0.000 {built-in method numpy.core._multiarray_umath.implement_array_function}\n",
      "        1    0.000    0.000    0.000    0.000 {built-in method scipy.sparse._sparsetools.coo_tocsr}\n",
      "        6    0.000    0.000    0.000    0.000 {method 'astype' of 'numpy.ndarray' objects}\n",
      "        1    0.000    0.000    0.000    0.000 {built-in method scipy.sparse._sparsetools.csr_matmat}\n",
      "        1    0.000    0.000    0.000    0.000 {built-in method scipy.sparse._sparsetools.csc_matvec}\n",
      "       18    0.000    0.000    0.000    0.000 {built-in method numpy.array}\n",
      "        1    0.000    0.000    0.000    0.000 {built-in method numpy.arange}\n",
      "        7    0.000    0.000    0.000    0.000 {method 'reduce' of 'numpy.ufunc' objects}\n",
      "        1    0.000    0.000    0.000    0.000 {built-in method scipy.sparse._sparsetools.csr_matmat_maxnnz}\n",
      "        2    0.000    0.000    0.000    0.000 {built-in method numpy.zeros}\n",
      "        1    0.000    0.000    0.000    0.000 {sklearn.utils.sparsefuncs_fast.inplace_csr_row_normalize_l2}\n",
      "        1    0.000    0.000    0.002    0.002 /opt/homebrew/Caskroom/miniforge/base/envs/torch/lib/python3.10/site-packages/scipy/sparse/_construct.py:72(diags)\n",
      "        5    0.000    0.000    0.000    0.000 /opt/homebrew/Caskroom/miniforge/base/envs/torch/lib/python3.10/site-packages/scipy/sparse/_compressed.py:136(check_format)\n",
      "       15    0.000    0.000    0.000    0.000 /opt/homebrew/Caskroom/miniforge/base/envs/torch/lib/python3.10/site-packages/scipy/sparse/_sputils.py:145(get_index_dtype)\n",
      "        1    0.000    0.000    0.004    0.004 /opt/homebrew/Caskroom/miniforge/base/envs/torch/lib/python3.10/site-packages/sklearn/base.py:839(fit_transform)\n",
      "       30    0.000    0.000    0.000    0.000 /opt/homebrew/Caskroom/miniforge/base/envs/torch/lib/python3.10/site-packages/numpy/core/getlimits.py:648(__init__)\n",
      "        2    0.000    0.000    0.000    0.000 {built-in method builtins.compile}\n",
      "\n",
      "\n",
      "0.59\n"
     ]
    }
   ],
   "source": [
    "pr = cProfile.Profile()\n",
    "pr.enable()\n",
    "X_transformed = transformer.fit_transform(X)\n",
    "\n",
    "pr.disable()\n",
    "stats = Stats(pr)\n",
    "stats.sort_stats('tottime').print_stats(20)\n",
    "\n",
    "y = twenty_train.target.astype(numpy.int32)[:100]\n",
    "model = MultinomialNB()\n",
    "model.fit(X_transformed, y)\n",
    "result = model.score(X_transformed, y)\n",
    "print(result) "
   ]
  },
  {
   "cell_type": "markdown",
   "id": "65cdf163-580d-4e04-8635-82b5f8007c58",
   "metadata": {},
   "source": [
    "#### Tfidf transformed + UMAP"
   ]
  },
  {
   "cell_type": "code",
   "execution_count": 4,
   "id": "9e4e9505-9e45-4cf3-87b9-4ff8b197f0b6",
   "metadata": {},
   "outputs": [],
   "source": [
    "# !pip install umap-learn\n",
    "from umap import UMAP\n",
    "\n",
    "g=UMAP()\n",
    "# tmp=g.fit(X.toarray())"
   ]
  },
  {
   "cell_type": "code",
   "execution_count": 5,
   "id": "a3f38b37-1324-4a86-b372-fd48778fb242",
   "metadata": {},
   "outputs": [],
   "source": [
    "# gg=g.transform(X_transformed[:100].toarray())\n",
    "gg=g.fit_transform(X_transformed[:1000].toarray())\n",
    "# plt.plot(gg)"
   ]
  },
  {
   "cell_type": "code",
   "execution_count": 6,
   "id": "47456bc0-9a2c-4cfe-a10f-f6f3c1be9dc7",
   "metadata": {},
   "outputs": [
    {
     "data": {
      "text/plain": [
       "<matplotlib.collections.PathCollection at 0x2a7154250>"
      ]
     },
     "execution_count": 6,
     "metadata": {},
     "output_type": "execute_result"
    },
    {
     "data": {
      "image/png": "[encoded data removed]",
      "text/plain": [
       "<Figure size 640x480 with 1 Axes>"
      ]
     },
     "metadata": {},
     "output_type": "display_data"
    }
   ],
   "source": [
    "gg=pandas.DataFrame(gg)\n",
    "plt.scatter(gg[0],gg[1],c=gg.index)"
   ]
  },
  {
   "cell_type": "markdown",
   "id": "cb73efa8-e188-4b93-8000-fea7989b0065",
   "metadata": {},
   "source": [
    "#### sklearn NMF + UMAP"
   ]
  },
  {
   "cell_type": "code",
   "execution_count": 32,
   "id": "d3755968-cbae-4891-89be-20299283ff6c",
   "metadata": {},
   "outputs": [
    {
     "name": "stdout",
     "output_type": "stream",
     "text": [
      "         31363 function calls (31360 primitive calls) in 1.642 seconds\n",
      "\n",
      "   Ordered by: internal time\n",
      "   List reduced from 221 to 20 due to restriction <20>\n",
      "\n",
      "   ncalls  tottime  percall  cumtime  percall filename:lineno(function)\n",
      "      400    1.167    0.003    1.535    0.004 /opt/homebrew/Caskroom/miniforge/base/envs/torch/lib/python3.10/site-packages/sklearn/decomposition/_nmf.py:390(_update_coordinate_descent)\n",
      "1232/1230    0.221    0.000    0.222    0.000 {built-in method numpy.core._multiarray_umath.implement_array_function}\n",
      "      402    0.111    0.000    0.111    0.000 {built-in method numpy.zeros}\n",
      "        1    0.049    0.049    1.596    1.596 /opt/homebrew/Caskroom/miniforge/base/envs/torch/lib/python3.10/site-packages/sklearn/decomposition/_nmf.py:420(_fit_coordinate_descent)\n",
      "      200    0.024    0.000    0.024    0.000 {built-in method scipy.sparse._sparsetools.csc_matvecs}\n",
      "        2    0.021    0.010    0.021    0.010 {method 'standard_normal' of 'numpy.random.mtrand.RandomState' objects}\n",
      "      201    0.018    0.000    0.018    0.000 {built-in method scipy.sparse._sparsetools.csr_matvecs}\n",
      "      204    0.003    0.000    0.006    0.000 /opt/homebrew/Caskroom/miniforge/base/envs/torch/lib/python3.10/site-packages/scipy/sparse/_compressed.py:136(check_format)\n",
      "        7    0.002    0.000    0.002    0.000 {method 'astype' of 'numpy.ndarray' objects}\n",
      "        2    0.002    0.001    0.002    0.001 /opt/homebrew/Caskroom/miniforge/base/envs/torch/lib/python3.10/site-packages/sklearn/utils/validation.py:1161(check_random_state)\n",
      "      808    0.002    0.000    0.002    0.000 {method 'ravel' of 'numpy.ndarray' objects}\n",
      "      408    0.001    0.000    0.003    0.000 /opt/homebrew/Caskroom/miniforge/base/envs/torch/lib/python3.10/site-packages/scipy/sparse/_sputils.py:145(get_index_dtype)\n",
      "      401    0.001    0.000    0.155    0.000 /opt/homebrew/Caskroom/miniforge/base/envs/torch/lib/python3.10/site-packages/scipy/sparse/_compressed.py:493(_mul_multivector)\n",
      "        3    0.001    0.000    0.008    0.003 /opt/homebrew/Caskroom/miniforge/base/envs/torch/lib/python3.10/site-packages/sklearn/utils/validation.py:619(check_array)\n",
      "     1628    0.001    0.000    0.001    0.000 {built-in method numpy.asarray}\n",
      "      204    0.001    0.000    0.011    0.000 /opt/homebrew/Caskroom/miniforge/base/envs/torch/lib/python3.10/site-packages/scipy/sparse/_compressed.py:26(__init__)\n",
      "      400    0.001    0.000    0.158    0.000 /opt/homebrew/Caskroom/miniforge/base/envs/torch/lib/python3.10/site-packages/sklearn/utils/extmath.py:119(safe_sparse_dot)\n",
      "        6    0.001    0.000    0.001    0.000 {method 'reduce' of 'numpy.ufunc' objects}\n",
      "      816    0.001    0.000    0.001    0.000 /opt/homebrew/Caskroom/miniforge/base/envs/torch/lib/python3.10/site-packages/numpy/core/getlimits.py:648(__init__)\n",
      "     2665    0.001    0.000    0.001    0.000 {built-in method builtins.len}\n",
      "\n",
      "\n"
     ]
    },
    {
     "name": "stderr",
     "output_type": "stream",
     "text": [
      "/opt/homebrew/Caskroom/miniforge/base/envs/torch/lib/python3.10/site-packages/sklearn/decomposition/_nmf.py:1692: ConvergenceWarning: Maximum number of iterations 200 reached. Increase it to improve convergence.\n",
      "  warnings.warn(\n"
     ]
    },
    {
     "data": {
      "text/plain": [
       "<pstats.Stats at 0x2a75ae7d0>"
      ]
     },
     "execution_count": 32,
     "metadata": {},
     "output_type": "execute_result"
    }
   ],
   "source": [
    "from sklearn.decomposition import NMF\n",
    "\n",
    "g = NMF(n_components=10, init='random', random_state=0)\n",
    "\n",
    "pr = cProfile.Profile()\n",
    "pr.enable()\n",
    "\n",
    "W = g.fit_transform(X)#.get().toarray())\n",
    "\n",
    "pr.disable()\n",
    "H = g.components_\n",
    "stats = Stats(pr)\n",
    "stats.sort_stats('tottime').print_stats(20)\n"
   ]
  },
  {
   "cell_type": "code",
   "execution_count": 33,
   "id": "14055c83-9bd7-4406-9ea9-8d2ad24b2ac4",
   "metadata": {},
   "outputs": [],
   "source": [
    "# from umap import UMAP\n",
    "modd=UMAP(n_neighbors = 10).fit(W)\n",
    "WW=modd.transform(W)\n",
    "# plt.plot(WW)"
   ]
  },
  {
   "cell_type": "code",
   "execution_count": 34,
   "id": "498aa3f1-e539-49b9-82a4-cbaf0db41594",
   "metadata": {},
   "outputs": [
    {
     "data": {
      "text/plain": [
       "<matplotlib.collections.PathCollection at 0x2db70fbb0>"
      ]
     },
     "execution_count": 34,
     "metadata": {},
     "output_type": "execute_result"
    },
    {
     "data": {
      "image/png": "[encoded data removed]",
      "text/plain": [
       "<Figure size 640x480 with 1 Axes>"
      ]
     },
     "metadata": {},
     "output_type": "display_data"
    }
   ],
   "source": [
    "WW=pandas.DataFrame(WW)\n",
    "\n",
    "plt.scatter(WW[0],WW[1],c=WW.index)"
   ]
  },
  {
   "cell_type": "markdown",
   "id": "7d5abc4f-ac07-42f0-9fc9-21a6002fc51d",
   "metadata": {},
   "source": [
    "#### torch NMF + UMAP"
   ]
  },
  {
   "cell_type": "code",
   "execution_count": 35,
   "id": "6827ea24-0451-4015-9376-5d8ae93da733",
   "metadata": {},
   "outputs": [],
   "source": [
    "# !pip install --user torchnmf\n",
    "import torch\n",
    "from torchnmf.nmf import NMF"
   ]
  },
  {
   "cell_type": "code",
   "execution_count": 36,
   "id": "8eee0132-0197-4b83-8259-ce901d55c730",
   "metadata": {},
   "outputs": [
    {
     "data": {
      "text/plain": [
       "torch.Size([130107, 100])"
      ]
     },
     "execution_count": 36,
     "metadata": {},
     "output_type": "execute_result"
    }
   ],
   "source": [
    "AA=torch.Tensor(X.toarray())\n",
    "AA.t().size()"
   ]
  },
  {
   "cell_type": "code",
   "execution_count": 37,
   "id": "c7488c44-0f18-4cad-ba69-9ef14d803102",
   "metadata": {},
   "outputs": [
    {
     "name": "stdout",
     "output_type": "stream",
     "text": [
      "         2004 function calls in 2.215 seconds\n",
      "\n",
      "   Ordered by: internal time\n",
      "   List reduced from 119 to 20 due to restriction <20>\n",
      "\n",
      "   ncalls  tottime  percall  cumtime  percall filename:lineno(function)\n",
      "       60    1.086    0.018    1.540    0.026 /opt/homebrew/Caskroom/miniforge/base/envs/torch/lib/python3.10/site-packages/torchnmf/nmf.py:52(_double_backward_update)\n",
      "       60    0.312    0.005    0.312    0.005 {method 'run_backward' of 'torch._C._EngineBase' objects}\n",
      "       64    0.259    0.004    0.259    0.004 {built-in method torch._C._nn.linear}\n",
      "       68    0.122    0.002    0.122    0.002 {method 'add' of 'torch._C._TensorBase' objects}\n",
      "        1    0.113    0.113    2.214    2.214 /opt/homebrew/Caskroom/miniforge/base/envs/torch/lib/python3.10/site-packages/torchnmf/nmf.py:294(fit)\n",
      "        4    0.096    0.024    0.269    0.067 /opt/homebrew/Caskroom/miniforge/base/envs/torch/lib/python3.10/site-packages/torchnmf/metrics.py:6(kl_div)\n",
      "        8    0.095    0.012    0.095    0.012 {method 'reshape' of 'torch._C._TensorBase' objects}\n",
      "        8    0.058    0.007    0.058    0.007 {method 'log' of 'torch._C._TensorBase' objects}\n",
      "       68    0.015    0.000    0.015    0.000 {method 'sum' of 'torch._C._TensorBase' objects}\n",
      "        1    0.014    0.014    0.014    0.014 {method 'min' of 'torch._C._TensorBase' objects}\n",
      "       60    0.011    0.000    0.011    0.000 {method 'div_' of 'torch._C._TensorBase' objects}\n",
      "       60    0.009    0.000    0.009    0.000 {method 'add_' of 'torch._C._TensorBase' objects}\n",
      "       60    0.007    0.000    0.007    0.000 {method 'relu_' of 'torch._C._TensorBase' objects}\n",
      "        1    0.005    0.005    0.005    0.005 {built-in method torch.all}\n",
      "       60    0.004    0.000    0.004    0.000 {method 'mul_' of 'torch._C._TensorBase' objects}\n",
      "       60    0.001    0.000    0.001    0.000 {built-in method torch.is_same_size}\n",
      "       30    0.001    0.000    0.001    0.000 {method 'squeeze' of 'torch._C._TensorBase' objects}\n",
      "        4    0.001    0.000    0.001    0.000 {method 'mul' of 'torch._C._TensorBase' objects}\n",
      "        1    0.001    0.001    2.215    2.215 /var/folders/hs/prz84krn36gd4bl5lcls9n1h0000gn/T/ipykernel_2801/4063693574.py:1(<module>)\n",
      "       60    0.001    0.000    0.314    0.005 /opt/homebrew/Caskroom/miniforge/base/envs/torch/lib/python3.10/site-packages/torch/autograd/__init__.py:103(backward)\n",
      "\n",
      "\n"
     ]
    },
    {
     "data": {
      "text/plain": [
       "<pstats.Stats at 0x2a766ec80>"
      ]
     },
     "execution_count": 37,
     "metadata": {},
     "output_type": "execute_result"
    }
   ],
   "source": [
    "model = NMF(AA.t().shape, rank=R)  ## AA.cuda.t().shape\n",
    "\n",
    "pr = cProfile.Profile()\n",
    "pr.enable()\n",
    "R=10\n",
    "\n",
    "model.fit(AA.t()) # m.cuda()\n",
    "\n",
    "pr.disable()\n",
    "stats = Stats(pr)\n",
    "stats.sort_stats('tottime').print_stats(20)"
   ]
  },
  {
   "cell_type": "code",
   "execution_count": 38,
   "id": "a15d6c28-e248-4fa0-bda8-bc6f05260443",
   "metadata": {},
   "outputs": [],
   "source": [
    "# HWt=HWt.detach().numpy()\n",
    "\n",
    "# from umap import UMAP\n",
    "modd=UMAP(n_neighbors = 10).fit(model.W.detach().numpy())\n",
    "# modd.transform(HWt)"
   ]
  },
  {
   "cell_type": "code",
   "execution_count": 39,
   "id": "6e1a1aa3-7796-4b51-90da-1a74cbe26bae",
   "metadata": {},
   "outputs": [
    {
     "data": {
      "text/plain": [
       "<matplotlib.collections.PathCollection at 0x2db7df130>"
      ]
     },
     "execution_count": 39,
     "metadata": {},
     "output_type": "execute_result"
    },
    {
     "data": {
      "image/png": "[encoded data removed]",
      "text/plain": [
       "<Figure size 640x480 with 1 Axes>"
      ]
     },
     "metadata": {},
     "output_type": "display_data"
    }
   ],
   "source": [
    "ZZ=modd.transform(model.W.detach().numpy())\n",
    "ZZ=pandas.DataFrame(ZZ)\n",
    "\n",
    "plt.scatter(ZZ[0],ZZ[1],c=ZZ.index)"
   ]
  },
  {
   "cell_type": "markdown",
   "id": "d4e85da4-b759-4d3c-9900-9c87d8704450",
   "metadata": {},
   "source": [
    "#### dirty_cat super encoder + UMAP"
   ]
  },
  {
   "cell_type": "code",
   "execution_count": 78,
   "id": "616171d3-3708-4260-b40c-b2d9e6cbbf3b",
   "metadata": {},
   "outputs": [],
   "source": [
    "from dirty_cat import SuperVectorizer\n",
    "sup_vec = SuperVectorizer(auto_cast=True)"
   ]
  },
  {
   "cell_type": "code",
   "execution_count": 80,
   "id": "65725d52-d240-491f-9d76-deb71fce2890",
   "metadata": {},
   "outputs": [],
   "source": [
    "X_train_enc = sup_vec.fit_transform(data[:100])"
   ]
  },
  {
   "cell_type": "code",
   "execution_count": 86,
   "id": "85276378-c65c-4231-840a-a382d2b0d76c",
   "metadata": {},
   "outputs": [
    {
     "data": {
      "text/plain": [
       "<matplotlib.collections.PathCollection at 0x2e4acd0f0>"
      ]
     },
     "execution_count": 86,
     "metadata": {},
     "output_type": "execute_result"
    },
    {
     "data": {
      "image/png": "[encoded data removed]",
      "text/plain": [
       "<Figure size 640x480 with 1 Axes>"
      ]
     },
     "metadata": {},
     "output_type": "display_data"
    }
   ],
   "source": [
    "XX=UMAP(n_neighbors = 10).fit_transform(X_train_enc)\n",
    "\n",
    "XX=pandas.DataFrame(XX)\n",
    "\n",
    "plt.scatter(XX[0],XX[1],c=XX.index)"
   ]
  },
  {
   "cell_type": "markdown",
   "id": "711390d4-817d-4321-a3ca-70373e15322d",
   "metadata": {},
   "source": [
    "#### graphistry encode + UMAP"
   ]
  },
  {
   "cell_type": "code",
   "execution_count": 47,
   "id": "d6f3a9bb-68e1-4bab-a102-37279e183823",
   "metadata": {},
   "outputs": [
    {
     "data": {
      "text/plain": [
       "'0.28.7'"
      ]
     },
     "execution_count": 47,
     "metadata": {},
     "output_type": "execute_result"
    }
   ],
   "source": [
    "!pip install --user graphistry --quiet\n",
    "\n",
    "import graphistry\n",
    "\n",
    "graphistry.register(api=3,protocol=\"https\", server=\"hub.graphistry.com\", username='dcolinmorgan', password='f5UwthGEF@F@xnP')\n",
    "graphistry.__version__\n",
    "\n",
    "# os.chdir('pygraphistry')\n",
    "# !git checkout cuCat\n",
    "# os.chdir('..')"
   ]
  },
  {
   "cell_type": "code",
   "execution_count": 72,
   "id": "de94a8e0-c4ff-4f12-bf39-56a19bf7543f",
   "metadata": {},
   "outputs": [],
   "source": [
    "jj=pandas.DataFrame(pandas.DataFrame(data[:100])[0].str.split('\\n',expand=True))\n"
   ]
  },
  {
   "cell_type": "code",
   "execution_count": 73,
   "id": "11e1e8b9-20d8-4eb0-ac57-68d3425d59c9",
   "metadata": {},
   "outputs": [],
   "source": [
    "g=graphistry.nodes(jj.iloc[:,:10])"
   ]
  },
  {
   "cell_type": "code",
   "execution_count": 74,
   "id": "3cf620fe-7cec-48ca-ae1c-344c652e3f19",
   "metadata": {},
   "outputs": [
    {
     "name": "stderr",
     "output_type": "stream",
     "text": [
      "* Ignoring target column of shape (100, 0) in UMAP fit, as it is not one dimensional"
     ]
    },
    {
     "data": {
      "text/html": [
       "\n",
       "            <iframe id=\"4c2ddd72-ec23-43f6-8402-afae78a11a54\" src=\"https://hub.graphistry.com/graph/graph.html?dataset=2d42b283377641c0871c46a67170469a&type=arrow&viztoken=5b46f296-976a-49a9-b14d-b31c991f5665&usertag=97d06d42-pygraphistry-0.28.7&splashAfter=1672736116&info=true&play=0\"\n",
       "                    allowfullscreen=\"true\" webkitallowfullscreen=\"true\" mozallowfullscreen=\"true\"\n",
       "                    oallowfullscreen=\"true\" msallowfullscreen=\"true\"\n",
       "                    style=\"width:100%; height:500px; border: 1px solid #DDD; overflow: hidden\"\n",
       "                    \n",
       "            >\n",
       "            </iframe>\n",
       "        \n",
       "            <script>\n",
       "                try {\n",
       "                  $(\"#4c2ddd72-ec23-43f6-8402-afae78a11a54\").bind('mousewheel', function(e) { e.preventDefault(); });\n",
       "                } catch (e) { console.error('exn catching scroll', e); }\n",
       "            </script>\n",
       "        "
      ],
      "text/plain": [
       "<IPython.core.display.HTML object>"
      ]
     },
     "execution_count": 74,
     "metadata": {},
     "output_type": "execute_result"
    }
   ],
   "source": [
    "g2 = g.umap()\n",
    "g2.plot()"
   ]
  },
  {
   "cell_type": "code",
   "execution_count": null,
   "id": "1889e1c3-f305-4f9b-8978-59419ebb3dca",
   "metadata": {},
   "outputs": [],
   "source": []
  }
 ],
 "metadata": {
  "kernelspec": {
   "display_name": "storch",
   "language": "python",
   "name": "storch"
  },
  "language_info": {
   "codemirror_mode": {
    "name": "ipython",
    "version": 3
   },
   "file_extension": ".py",
   "mimetype": "text/x-python",
   "name": "python",
   "nbconvert_exporter": "python",
   "pygments_lexer": "ipython3",
   "version": "3.10.6"
  },
  "toc-autonumbering": false,
  "toc-showcode": false,
  "toc-showmarkdowntxt": true,
  "toc-showtags": false
 },
 "nbformat": 4,
 "nbformat_minor": 5
}
